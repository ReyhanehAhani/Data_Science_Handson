{
  "nbformat": 4,
  "nbformat_minor": 0,
  "metadata": {
    "colab": {
      "provenance": []
    },
    "kernelspec": {
      "name": "python3",
      "display_name": "Python 3"
    },
    "language_info": {
      "name": "python"
    }
  },
  "cells": [
    {
      "cell_type": "code",
      "source": [
        "!pip install jdatetime"
      ],
      "metadata": {
        "colab": {
          "base_uri": "https://localhost:8080/"
        },
        "id": "CS6OEgSOIYot",
        "outputId": "60fa402f-cfff-4eec-ac13-d1644c752427"
      },
      "execution_count": 31,
      "outputs": [
        {
          "output_type": "stream",
          "name": "stdout",
          "text": [
            "Collecting jdatetime\n",
            "  Downloading jdatetime-5.0.0-py3-none-any.whl.metadata (5.4 kB)\n",
            "Collecting jalali-core>=1.0 (from jdatetime)\n",
            "  Downloading jalali_core-1.0.0-py3-none-any.whl.metadata (738 bytes)\n",
            "Downloading jdatetime-5.0.0-py3-none-any.whl (12 kB)\n",
            "Downloading jalali_core-1.0.0-py3-none-any.whl (3.6 kB)\n",
            "Installing collected packages: jalali-core, jdatetime\n",
            "Successfully installed jalali-core-1.0.0 jdatetime-5.0.0\n"
          ]
        }
      ]
    },
    {
      "cell_type": "code",
      "execution_count": 46,
      "metadata": {
        "id": "V900UXAqHKB8"
      },
      "outputs": [],
      "source": [
        "import numpy as np\n",
        "import pandas as pd\n",
        "import matplotlib.pyplot as plt\n",
        "import jdatetime\n",
        "import seaborn as sns\n",
        "import re"
      ]
    },
    {
      "cell_type": "code",
      "source": [
        "df = pd.read_csv('/content/Blue - transaction - 14030519210136.xlsx - transaction.csv (2).csv')"
      ],
      "metadata": {
        "id": "Bbrcum5YH4GG"
      },
      "execution_count": 15,
      "outputs": []
    },
    {
      "cell_type": "code",
      "source": [
        "df"
      ],
      "metadata": {
        "colab": {
          "base_uri": "https://localhost:8080/",
          "height": 580
        },
        "id": "ocN6XUHZKPUu",
        "outputId": "f5a7e073-9700-480d-c26b-62fd383b5f36"
      },
      "execution_count": 16,
      "outputs": [
        {
          "output_type": "execute_result",
          "data": {
            "text/plain": [
              "                               Total Withdrawal Deposit  Trasaction_Type  \\\n",
              "0                            851,603          0   3,586  واریز سود بانکی   \n",
              "1                            855,204          0   3,601  واریز سود بانکی   \n",
              "2                            858,704          0   3,500  واریز سود بانکی   \n",
              "3                            862,219          0   3,515  واریز سود بانکی   \n",
              "4                            162,219    700,000       0   انتقال به کارت   \n",
              "..                               ...        ...     ...              ...   \n",
              "101                          261,631    180,000       0  انتقال به سپرده   \n",
              "102                           61,631    200,000       0   انتقال به کارت   \n",
              "103                           54,431      7,200       0           کارمزد   \n",
              "104                              NaN        NaN     NaN              NaN   \n",
              "105  تاریخ صدور: 19 مرداد 1403 21:01        NaN     NaN              NaN   \n",
              "\n",
              "                                               Doc_Exp       Doc_Num  \\\n",
              "0    واریز سود علی الحساب به :611828005230310401 از...  1.402492e+12   \n",
              "1    واریز سود علی الحساب به :611828005230310401 از...  1.402619e+12   \n",
              "2    واریز سود علی الحساب به :611828005230310401 از...  1.402756e+12   \n",
              "3    واریز سود علی الحساب به :611828005230310401 از...  1.402901e+12   \n",
              "4    انتقال به کارت شماره: 6273811154122474 بنام: ر...  1.402917e+12   \n",
              "..                                                 ...           ...   \n",
              "101  انتقال به سپرده بلو - شماره سپرده: 61182800567...  1.403102e+13   \n",
              "102  انتقال به کارت شماره: 6273811154122474 بنام: ر...  1.403103e+13   \n",
              "103  برداشت از سپرده بابت کارمزد انتقال کارت به کار...  1.403103e+13   \n",
              "104                                                NaN           NaN   \n",
              "105                                             صفحه 1           NaN   \n",
              "\n",
              "                    Date  Index  \n",
              "0     1402/06/04 1:11:13    1.0  \n",
              "1     1402/07/04 1:20:27    2.0  \n",
              "2     1402/08/04 0:42:15    3.0  \n",
              "3     1402/09/04 0:47:17    4.0  \n",
              "4     1402/09/07 6:39:59    5.0  \n",
              "..                   ...    ...  \n",
              "101  1403/05/12 19:06:18  102.0  \n",
              "102   1403/05/13 5:25:06  103.0  \n",
              "103   1403/05/13 5:25:06  104.0  \n",
              "104                  NaN    NaN  \n",
              "105                  NaN    NaN  \n",
              "\n",
              "[106 rows x 8 columns]"
            ],
            "text/html": [
              "\n",
              "  <div id=\"df-88656e25-c923-4167-a501-e8dec2b0b055\" class=\"colab-df-container\">\n",
              "    <div>\n",
              "<style scoped>\n",
              "    .dataframe tbody tr th:only-of-type {\n",
              "        vertical-align: middle;\n",
              "    }\n",
              "\n",
              "    .dataframe tbody tr th {\n",
              "        vertical-align: top;\n",
              "    }\n",
              "\n",
              "    .dataframe thead th {\n",
              "        text-align: right;\n",
              "    }\n",
              "</style>\n",
              "<table border=\"1\" class=\"dataframe\">\n",
              "  <thead>\n",
              "    <tr style=\"text-align: right;\">\n",
              "      <th></th>\n",
              "      <th>Total</th>\n",
              "      <th>Withdrawal</th>\n",
              "      <th>Deposit</th>\n",
              "      <th>Trasaction_Type</th>\n",
              "      <th>Doc_Exp</th>\n",
              "      <th>Doc_Num</th>\n",
              "      <th>Date</th>\n",
              "      <th>Index</th>\n",
              "    </tr>\n",
              "  </thead>\n",
              "  <tbody>\n",
              "    <tr>\n",
              "      <th>0</th>\n",
              "      <td>851,603</td>\n",
              "      <td>0</td>\n",
              "      <td>3,586</td>\n",
              "      <td>واریز سود بانکی</td>\n",
              "      <td>واریز سود علی الحساب به :611828005230310401 از...</td>\n",
              "      <td>1.402492e+12</td>\n",
              "      <td>1402/06/04 1:11:13</td>\n",
              "      <td>1.0</td>\n",
              "    </tr>\n",
              "    <tr>\n",
              "      <th>1</th>\n",
              "      <td>855,204</td>\n",
              "      <td>0</td>\n",
              "      <td>3,601</td>\n",
              "      <td>واریز سود بانکی</td>\n",
              "      <td>واریز سود علی الحساب به :611828005230310401 از...</td>\n",
              "      <td>1.402619e+12</td>\n",
              "      <td>1402/07/04 1:20:27</td>\n",
              "      <td>2.0</td>\n",
              "    </tr>\n",
              "    <tr>\n",
              "      <th>2</th>\n",
              "      <td>858,704</td>\n",
              "      <td>0</td>\n",
              "      <td>3,500</td>\n",
              "      <td>واریز سود بانکی</td>\n",
              "      <td>واریز سود علی الحساب به :611828005230310401 از...</td>\n",
              "      <td>1.402756e+12</td>\n",
              "      <td>1402/08/04 0:42:15</td>\n",
              "      <td>3.0</td>\n",
              "    </tr>\n",
              "    <tr>\n",
              "      <th>3</th>\n",
              "      <td>862,219</td>\n",
              "      <td>0</td>\n",
              "      <td>3,515</td>\n",
              "      <td>واریز سود بانکی</td>\n",
              "      <td>واریز سود علی الحساب به :611828005230310401 از...</td>\n",
              "      <td>1.402901e+12</td>\n",
              "      <td>1402/09/04 0:47:17</td>\n",
              "      <td>4.0</td>\n",
              "    </tr>\n",
              "    <tr>\n",
              "      <th>4</th>\n",
              "      <td>162,219</td>\n",
              "      <td>700,000</td>\n",
              "      <td>0</td>\n",
              "      <td>انتقال به کارت</td>\n",
              "      <td>انتقال به کارت شماره: 6273811154122474 بنام: ر...</td>\n",
              "      <td>1.402917e+12</td>\n",
              "      <td>1402/09/07 6:39:59</td>\n",
              "      <td>5.0</td>\n",
              "    </tr>\n",
              "    <tr>\n",
              "      <th>...</th>\n",
              "      <td>...</td>\n",
              "      <td>...</td>\n",
              "      <td>...</td>\n",
              "      <td>...</td>\n",
              "      <td>...</td>\n",
              "      <td>...</td>\n",
              "      <td>...</td>\n",
              "      <td>...</td>\n",
              "    </tr>\n",
              "    <tr>\n",
              "      <th>101</th>\n",
              "      <td>261,631</td>\n",
              "      <td>180,000</td>\n",
              "      <td>0</td>\n",
              "      <td>انتقال به سپرده</td>\n",
              "      <td>انتقال به سپرده بلو - شماره سپرده: 61182800567...</td>\n",
              "      <td>1.403102e+13</td>\n",
              "      <td>1403/05/12 19:06:18</td>\n",
              "      <td>102.0</td>\n",
              "    </tr>\n",
              "    <tr>\n",
              "      <th>102</th>\n",
              "      <td>61,631</td>\n",
              "      <td>200,000</td>\n",
              "      <td>0</td>\n",
              "      <td>انتقال به کارت</td>\n",
              "      <td>انتقال به کارت شماره: 6273811154122474 بنام: ر...</td>\n",
              "      <td>1.403103e+13</td>\n",
              "      <td>1403/05/13 5:25:06</td>\n",
              "      <td>103.0</td>\n",
              "    </tr>\n",
              "    <tr>\n",
              "      <th>103</th>\n",
              "      <td>54,431</td>\n",
              "      <td>7,200</td>\n",
              "      <td>0</td>\n",
              "      <td>کارمزد</td>\n",
              "      <td>برداشت از سپرده بابت کارمزد انتقال کارت به کار...</td>\n",
              "      <td>1.403103e+13</td>\n",
              "      <td>1403/05/13 5:25:06</td>\n",
              "      <td>104.0</td>\n",
              "    </tr>\n",
              "    <tr>\n",
              "      <th>104</th>\n",
              "      <td>NaN</td>\n",
              "      <td>NaN</td>\n",
              "      <td>NaN</td>\n",
              "      <td>NaN</td>\n",
              "      <td>NaN</td>\n",
              "      <td>NaN</td>\n",
              "      <td>NaN</td>\n",
              "      <td>NaN</td>\n",
              "    </tr>\n",
              "    <tr>\n",
              "      <th>105</th>\n",
              "      <td>تاریخ صدور: 19 مرداد 1403 21:01</td>\n",
              "      <td>NaN</td>\n",
              "      <td>NaN</td>\n",
              "      <td>NaN</td>\n",
              "      <td>صفحه 1</td>\n",
              "      <td>NaN</td>\n",
              "      <td>NaN</td>\n",
              "      <td>NaN</td>\n",
              "    </tr>\n",
              "  </tbody>\n",
              "</table>\n",
              "<p>106 rows × 8 columns</p>\n",
              "</div>\n",
              "    <div class=\"colab-df-buttons\">\n",
              "\n",
              "  <div class=\"colab-df-container\">\n",
              "    <button class=\"colab-df-convert\" onclick=\"convertToInteractive('df-88656e25-c923-4167-a501-e8dec2b0b055')\"\n",
              "            title=\"Convert this dataframe to an interactive table.\"\n",
              "            style=\"display:none;\">\n",
              "\n",
              "  <svg xmlns=\"http://www.w3.org/2000/svg\" height=\"24px\" viewBox=\"0 -960 960 960\">\n",
              "    <path d=\"M120-120v-720h720v720H120Zm60-500h600v-160H180v160Zm220 220h160v-160H400v160Zm0 220h160v-160H400v160ZM180-400h160v-160H180v160Zm440 0h160v-160H620v160ZM180-180h160v-160H180v160Zm440 0h160v-160H620v160Z\"/>\n",
              "  </svg>\n",
              "    </button>\n",
              "\n",
              "  <style>\n",
              "    .colab-df-container {\n",
              "      display:flex;\n",
              "      gap: 12px;\n",
              "    }\n",
              "\n",
              "    .colab-df-convert {\n",
              "      background-color: #E8F0FE;\n",
              "      border: none;\n",
              "      border-radius: 50%;\n",
              "      cursor: pointer;\n",
              "      display: none;\n",
              "      fill: #1967D2;\n",
              "      height: 32px;\n",
              "      padding: 0 0 0 0;\n",
              "      width: 32px;\n",
              "    }\n",
              "\n",
              "    .colab-df-convert:hover {\n",
              "      background-color: #E2EBFA;\n",
              "      box-shadow: 0px 1px 2px rgba(60, 64, 67, 0.3), 0px 1px 3px 1px rgba(60, 64, 67, 0.15);\n",
              "      fill: #174EA6;\n",
              "    }\n",
              "\n",
              "    .colab-df-buttons div {\n",
              "      margin-bottom: 4px;\n",
              "    }\n",
              "\n",
              "    [theme=dark] .colab-df-convert {\n",
              "      background-color: #3B4455;\n",
              "      fill: #D2E3FC;\n",
              "    }\n",
              "\n",
              "    [theme=dark] .colab-df-convert:hover {\n",
              "      background-color: #434B5C;\n",
              "      box-shadow: 0px 1px 3px 1px rgba(0, 0, 0, 0.15);\n",
              "      filter: drop-shadow(0px 1px 2px rgba(0, 0, 0, 0.3));\n",
              "      fill: #FFFFFF;\n",
              "    }\n",
              "  </style>\n",
              "\n",
              "    <script>\n",
              "      const buttonEl =\n",
              "        document.querySelector('#df-88656e25-c923-4167-a501-e8dec2b0b055 button.colab-df-convert');\n",
              "      buttonEl.style.display =\n",
              "        google.colab.kernel.accessAllowed ? 'block' : 'none';\n",
              "\n",
              "      async function convertToInteractive(key) {\n",
              "        const element = document.querySelector('#df-88656e25-c923-4167-a501-e8dec2b0b055');\n",
              "        const dataTable =\n",
              "          await google.colab.kernel.invokeFunction('convertToInteractive',\n",
              "                                                    [key], {});\n",
              "        if (!dataTable) return;\n",
              "\n",
              "        const docLinkHtml = 'Like what you see? Visit the ' +\n",
              "          '<a target=\"_blank\" href=https://colab.research.google.com/notebooks/data_table.ipynb>data table notebook</a>'\n",
              "          + ' to learn more about interactive tables.';\n",
              "        element.innerHTML = '';\n",
              "        dataTable['output_type'] = 'display_data';\n",
              "        await google.colab.output.renderOutput(dataTable, element);\n",
              "        const docLink = document.createElement('div');\n",
              "        docLink.innerHTML = docLinkHtml;\n",
              "        element.appendChild(docLink);\n",
              "      }\n",
              "    </script>\n",
              "  </div>\n",
              "\n",
              "\n",
              "<div id=\"df-4002d569-57f4-4b41-a282-f02f88fe72a7\">\n",
              "  <button class=\"colab-df-quickchart\" onclick=\"quickchart('df-4002d569-57f4-4b41-a282-f02f88fe72a7')\"\n",
              "            title=\"Suggest charts\"\n",
              "            style=\"display:none;\">\n",
              "\n",
              "<svg xmlns=\"http://www.w3.org/2000/svg\" height=\"24px\"viewBox=\"0 0 24 24\"\n",
              "     width=\"24px\">\n",
              "    <g>\n",
              "        <path d=\"M19 3H5c-1.1 0-2 .9-2 2v14c0 1.1.9 2 2 2h14c1.1 0 2-.9 2-2V5c0-1.1-.9-2-2-2zM9 17H7v-7h2v7zm4 0h-2V7h2v10zm4 0h-2v-4h2v4z\"/>\n",
              "    </g>\n",
              "</svg>\n",
              "  </button>\n",
              "\n",
              "<style>\n",
              "  .colab-df-quickchart {\n",
              "      --bg-color: #E8F0FE;\n",
              "      --fill-color: #1967D2;\n",
              "      --hover-bg-color: #E2EBFA;\n",
              "      --hover-fill-color: #174EA6;\n",
              "      --disabled-fill-color: #AAA;\n",
              "      --disabled-bg-color: #DDD;\n",
              "  }\n",
              "\n",
              "  [theme=dark] .colab-df-quickchart {\n",
              "      --bg-color: #3B4455;\n",
              "      --fill-color: #D2E3FC;\n",
              "      --hover-bg-color: #434B5C;\n",
              "      --hover-fill-color: #FFFFFF;\n",
              "      --disabled-bg-color: #3B4455;\n",
              "      --disabled-fill-color: #666;\n",
              "  }\n",
              "\n",
              "  .colab-df-quickchart {\n",
              "    background-color: var(--bg-color);\n",
              "    border: none;\n",
              "    border-radius: 50%;\n",
              "    cursor: pointer;\n",
              "    display: none;\n",
              "    fill: var(--fill-color);\n",
              "    height: 32px;\n",
              "    padding: 0;\n",
              "    width: 32px;\n",
              "  }\n",
              "\n",
              "  .colab-df-quickchart:hover {\n",
              "    background-color: var(--hover-bg-color);\n",
              "    box-shadow: 0 1px 2px rgba(60, 64, 67, 0.3), 0 1px 3px 1px rgba(60, 64, 67, 0.15);\n",
              "    fill: var(--button-hover-fill-color);\n",
              "  }\n",
              "\n",
              "  .colab-df-quickchart-complete:disabled,\n",
              "  .colab-df-quickchart-complete:disabled:hover {\n",
              "    background-color: var(--disabled-bg-color);\n",
              "    fill: var(--disabled-fill-color);\n",
              "    box-shadow: none;\n",
              "  }\n",
              "\n",
              "  .colab-df-spinner {\n",
              "    border: 2px solid var(--fill-color);\n",
              "    border-color: transparent;\n",
              "    border-bottom-color: var(--fill-color);\n",
              "    animation:\n",
              "      spin 1s steps(1) infinite;\n",
              "  }\n",
              "\n",
              "  @keyframes spin {\n",
              "    0% {\n",
              "      border-color: transparent;\n",
              "      border-bottom-color: var(--fill-color);\n",
              "      border-left-color: var(--fill-color);\n",
              "    }\n",
              "    20% {\n",
              "      border-color: transparent;\n",
              "      border-left-color: var(--fill-color);\n",
              "      border-top-color: var(--fill-color);\n",
              "    }\n",
              "    30% {\n",
              "      border-color: transparent;\n",
              "      border-left-color: var(--fill-color);\n",
              "      border-top-color: var(--fill-color);\n",
              "      border-right-color: var(--fill-color);\n",
              "    }\n",
              "    40% {\n",
              "      border-color: transparent;\n",
              "      border-right-color: var(--fill-color);\n",
              "      border-top-color: var(--fill-color);\n",
              "    }\n",
              "    60% {\n",
              "      border-color: transparent;\n",
              "      border-right-color: var(--fill-color);\n",
              "    }\n",
              "    80% {\n",
              "      border-color: transparent;\n",
              "      border-right-color: var(--fill-color);\n",
              "      border-bottom-color: var(--fill-color);\n",
              "    }\n",
              "    90% {\n",
              "      border-color: transparent;\n",
              "      border-bottom-color: var(--fill-color);\n",
              "    }\n",
              "  }\n",
              "</style>\n",
              "\n",
              "  <script>\n",
              "    async function quickchart(key) {\n",
              "      const quickchartButtonEl =\n",
              "        document.querySelector('#' + key + ' button');\n",
              "      quickchartButtonEl.disabled = true;  // To prevent multiple clicks.\n",
              "      quickchartButtonEl.classList.add('colab-df-spinner');\n",
              "      try {\n",
              "        const charts = await google.colab.kernel.invokeFunction(\n",
              "            'suggestCharts', [key], {});\n",
              "      } catch (error) {\n",
              "        console.error('Error during call to suggestCharts:', error);\n",
              "      }\n",
              "      quickchartButtonEl.classList.remove('colab-df-spinner');\n",
              "      quickchartButtonEl.classList.add('colab-df-quickchart-complete');\n",
              "    }\n",
              "    (() => {\n",
              "      let quickchartButtonEl =\n",
              "        document.querySelector('#df-4002d569-57f4-4b41-a282-f02f88fe72a7 button');\n",
              "      quickchartButtonEl.style.display =\n",
              "        google.colab.kernel.accessAllowed ? 'block' : 'none';\n",
              "    })();\n",
              "  </script>\n",
              "</div>\n",
              "    </div>\n",
              "  </div>\n"
            ],
            "application/vnd.google.colaboratory.intrinsic+json": {
              "type": "dataframe",
              "variable_name": "df",
              "summary": "{\n  \"name\": \"df\",\n  \"rows\": 106,\n  \"fields\": [\n    {\n      \"column\": \"Total\",\n      \"properties\": {\n        \"dtype\": \"string\",\n        \"num_unique_values\": 104,\n        \"samples\": [\n          \"218,609,333\",\n          \"101,935,048\",\n          \"341,000,398\"\n        ],\n        \"semantic_type\": \"\",\n        \"description\": \"\"\n      }\n    },\n    {\n      \"column\": \"Withdrawal\",\n      \"properties\": {\n        \"dtype\": \"category\",\n        \"num_unique_values\": 43,\n        \"samples\": [\n          \"55,000\",\n          \"600,000\",\n          \"90,000,000\"\n        ],\n        \"semantic_type\": \"\",\n        \"description\": \"\"\n      }\n    },\n    {\n      \"column\": \"Deposit\",\n      \"properties\": {\n        \"dtype\": \"category\",\n        \"num_unique_values\": 30,\n        \"samples\": [\n          \"600,000,000\",\n          \"100,000,000\",\n          \"21,600\"\n        ],\n        \"semantic_type\": \"\",\n        \"description\": \"\"\n      }\n    },\n    {\n      \"column\": \"Trasaction_Type\",\n      \"properties\": {\n        \"dtype\": \"category\",\n        \"num_unique_values\": 12,\n        \"samples\": [\n          \"\\u0633\\u0627\\u06cc\\u0631\",\n          \"\\u062f\\u0631\\u06cc\\u0627\\u0641\\u062a \\u067e\\u0627\\u06cc\\u0627\",\n          \"\\u0648\\u0627\\u0631\\u06cc\\u0632 \\u0633\\u0648\\u062f \\u0628\\u0627\\u0646\\u06a9\\u06cc\"\n        ],\n        \"semantic_type\": \"\",\n        \"description\": \"\"\n      }\n    },\n    {\n      \"column\": \"Doc_Exp\",\n      \"properties\": {\n        \"dtype\": \"string\",\n        \"num_unique_values\": 105,\n        \"samples\": [\n          \"\\u0627\\u0646\\u062a\\u0642\\u0627\\u0644 \\u0627\\u0632 \\u06a9\\u0627\\u0631\\u062a \\u0634\\u0645\\u0627\\u0631\\u0647: 5041721008160500 \\u0628\\u0646\\u0627\\u0645: \\u0645\\u062d\\u0645\\u062f\\u062c\\u0648\\u0627\\u062f \\u0631\\u0636\\u0627\\u06cc\\u06cc \\u062a\\u0641\\u062a\\u06cc \\u0627\\u0632 \\u062f\\u0631\\u06af\\u0627\\u0647 \\u0627\\u06cc\\u0646\\u062a\\u0631\\u0646\\u062a\\u06cc 115      \\u0628\\u0627\\u0646\\u06a9 \\u0642\\u0631\\u0636 \\u0627\\u0644\\u062d\\u0633\\u0646\\u0647 \\u0631\\u0633\\u0627\\u0644\\u062a - \\u0634 \\u0645: 022144112463 \\u0634 \\u067e: 267491\",\n          \"\\u0627\\u0646\\u062a\\u0642\\u0627\\u0644 \\u067e\\u0627\\u06cc\\u0627 \\u0627\\u0632 \\u0634\\u0645\\u0627\\u0631\\u0647 \\u0634\\u0628\\u0627: IR460150000000462100536910 \\u0628\\u0627\\u0646\\u06a9 \\u0633\\u067e\\u0647 \\u0628\\u0646\\u0627\\u0645: \\u0631\\u062d\\u06cc\\u0645 \\u0622\\u0647\\u0646\\u06cc \\u0645\\u0627\\u0646\\u0642\\u0648\\u0637\\u0627\\u06cc - \\u0634\\u0645\\u0627\\u0631\\u0647 \\u067e\\u06cc\\u06af\\u06cc\\u0631\\u06cc \\u062a\\u0631\\u0627\\u06a9\\u0646\\u0634: 1403032201521088316\",\n          \"\\u062e\\u0631\\u06cc\\u062f \\u06a9\\u0627\\u0644\\u0627 \\u0648 \\u062e\\u062f\\u0645\\u0627\\u062a \\u0627\\u0632 \\u0627\\u06cc\\u0646\\u062a\\u0631\\u0646\\u062a 06624032 \\u0628\\u0647 \\u067e\\u0631\\u062f\\u0627\\u062e\\u062a \\u0645\\u0644\\u062a \\u0634 \\u0645 275846185642 \\u0634 \\u067e 185642\"\n        ],\n        \"semantic_type\": \"\",\n        \"description\": \"\"\n      }\n    },\n    {\n      \"column\": \"Doc_Num\",\n      \"properties\": {\n        \"dtype\": \"number\",\n        \"std\": 3738945054330.9204,\n        \"min\": 1402492283644.0,\n        \"max\": 14031027024914.0,\n        \"num_unique_values\": 82,\n        \"samples\": [\n          1403380652063.0,\n          1402492283644.0,\n          1403311217508.0\n        ],\n        \"semantic_type\": \"\",\n        \"description\": \"\"\n      }\n    },\n    {\n      \"column\": \"Date\",\n      \"properties\": {\n        \"dtype\": \"string\",\n        \"num_unique_values\": 82,\n        \"samples\": [\n          \"1403/02/25 19:56:40\",\n          \"1402/06/04 1:11:13\",\n          \"1403/02/16 20:25:34\"\n        ],\n        \"semantic_type\": \"\",\n        \"description\": \"\"\n      }\n    },\n    {\n      \"column\": \"Index\",\n      \"properties\": {\n        \"dtype\": \"number\",\n        \"std\": 30.166206257996713,\n        \"min\": 1.0,\n        \"max\": 104.0,\n        \"num_unique_values\": 104,\n        \"samples\": [\n          31.0,\n          66.0,\n          65.0\n        ],\n        \"semantic_type\": \"\",\n        \"description\": \"\"\n      }\n    }\n  ]\n}"
            }
          },
          "metadata": {},
          "execution_count": 16
        }
      ]
    },
    {
      "cell_type": "code",
      "source": [
        "print(df.columns)"
      ],
      "metadata": {
        "colab": {
          "base_uri": "https://localhost:8080/"
        },
        "id": "7dhybCKIMB6s",
        "outputId": "4c0f51a9-ba01-4fcd-c800-4b107f94ec06"
      },
      "execution_count": 20,
      "outputs": [
        {
          "output_type": "stream",
          "name": "stdout",
          "text": [
            "Index(['Total', 'Withdrawal', 'Deposit', 'Trasaction_Type', 'Doc_Exp',\n",
            "       'Doc_Num', 'Date', 'Index'],\n",
            "      dtype='object')\n"
          ]
        }
      ]
    },
    {
      "cell_type": "code",
      "source": [
        "print(df['Trasaction_Type'].isnull().sum())"
      ],
      "metadata": {
        "colab": {
          "base_uri": "https://localhost:8080/"
        },
        "id": "7FQGx7a-LkCf",
        "outputId": "af1dc599-71a8-487f-cf75-3b4f681f7952"
      },
      "execution_count": 21,
      "outputs": [
        {
          "output_type": "stream",
          "name": "stdout",
          "text": [
            "2\n"
          ]
        }
      ]
    },
    {
      "cell_type": "code",
      "source": [
        "df = df.dropna(subset = ['Trasaction_Type'])"
      ],
      "metadata": {
        "id": "fXxJMEX-MNKM"
      },
      "execution_count": 23,
      "outputs": []
    },
    {
      "cell_type": "code",
      "source": [
        "transaction_count = df['Trasaction_Type'].value_counts()\n",
        "print(transaction_count)"
      ],
      "metadata": {
        "colab": {
          "base_uri": "https://localhost:8080/"
        },
        "id": "YSmYsAB0MZuI",
        "outputId": "f1c484ff-b047-4370-d5c9-e417a8c70e8f"
      },
      "execution_count": 26,
      "outputs": [
        {
          "output_type": "stream",
          "name": "stdout",
          "text": [
            "Trasaction_Type\n",
            "دریافت از کارت       23\n",
            "کارمزد               22\n",
            "انتقال به کارت       21\n",
            "خرید اینترنتی        15\n",
            "واریز سود بانکی       7\n",
            "انتقال به سپرده       5\n",
            "دریافت از سپرده       3\n",
            "قبض                   3\n",
            "دریافت پایا           2\n",
            "انتقال پایا           1\n",
            "کارمزد سفارش کارت     1\n",
            "سایر                  1\n",
            "Name: count, dtype: int64\n"
          ]
        }
      ]
    },
    {
      "cell_type": "code",
      "source": [
        "def convert_date(jalali_date):\n",
        "  year, month, day, hour, minute, second = map(int, jalali_date.split()[0].split('/') + jalali_date.split()[1].split(':'))\n",
        "  gregorian_date = jdatetime.datetime(year, month, day, hour, minute, second, locale='fa_IR').togregorian()\n",
        "  return gregorian_date"
      ],
      "metadata": {
        "id": "gPqsS25mNRFU"
      },
      "execution_count": 35,
      "outputs": []
    },
    {
      "cell_type": "code",
      "source": [
        "df['Gregorian_Date'] = df['Date'].apply(convert_date)\n",
        "df['Gregorian_Date'] = pd.to_datetime(df['Gregorian_Date'])"
      ],
      "metadata": {
        "colab": {
          "base_uri": "https://localhost:8080/"
        },
        "id": "4MVJnMWdOHHJ",
        "outputId": "3533620c-0ce3-4707-e059-9051e9de4378"
      },
      "execution_count": 36,
      "outputs": [
        {
          "output_type": "stream",
          "name": "stderr",
          "text": [
            "<ipython-input-36-9e36624a8cc0>:1: SettingWithCopyWarning: \n",
            "A value is trying to be set on a copy of a slice from a DataFrame.\n",
            "Try using .loc[row_indexer,col_indexer] = value instead\n",
            "\n",
            "See the caveats in the documentation: https://pandas.pydata.org/pandas-docs/stable/user_guide/indexing.html#returning-a-view-versus-a-copy\n",
            "  df['Gregorian_Date'] = df['Date'].apply(convert_date)\n",
            "<ipython-input-36-9e36624a8cc0>:2: SettingWithCopyWarning: \n",
            "A value is trying to be set on a copy of a slice from a DataFrame.\n",
            "Try using .loc[row_indexer,col_indexer] = value instead\n",
            "\n",
            "See the caveats in the documentation: https://pandas.pydata.org/pandas-docs/stable/user_guide/indexing.html#returning-a-view-versus-a-copy\n",
            "  df['Gregorian_Date'] = pd.to_datetime(df['Gregorian_Date'])\n"
          ]
        }
      ]
    },
    {
      "cell_type": "code",
      "source": [
        "def convert_and_extract_day(jalali_date):\n",
        "    year, month, day = map(int, jalali_date.split()[0].split('/'))\n",
        "    gregorian_date = jdatetime.date(year, month, day).togregorian()\n",
        "    return gregorian_date.day"
      ],
      "metadata": {
        "id": "CGzrGEHpOfaz"
      },
      "execution_count": 37,
      "outputs": []
    },
    {
      "cell_type": "code",
      "source": [
        "df['Day'] = df['Date'].apply(convert_and_extract_day)"
      ],
      "metadata": {
        "colab": {
          "base_uri": "https://localhost:8080/"
        },
        "id": "6Er5pk15OhIS",
        "outputId": "1691ac06-b8dc-405d-a37b-3dbc3ab894d3"
      },
      "execution_count": 38,
      "outputs": [
        {
          "output_type": "stream",
          "name": "stderr",
          "text": [
            "<ipython-input-38-416686b88209>:1: SettingWithCopyWarning: \n",
            "A value is trying to be set on a copy of a slice from a DataFrame.\n",
            "Try using .loc[row_indexer,col_indexer] = value instead\n",
            "\n",
            "See the caveats in the documentation: https://pandas.pydata.org/pandas-docs/stable/user_guide/indexing.html#returning-a-view-versus-a-copy\n",
            "  df['Day'] = df['Date'].apply(convert_and_extract_day)\n"
          ]
        }
      ]
    },
    {
      "cell_type": "code",
      "source": [
        "df['Deposit'] = df['Deposit'].str.replace(',', '').astype(float)"
      ],
      "metadata": {
        "colab": {
          "base_uri": "https://localhost:8080/"
        },
        "id": "hrXhZ-YNOiv7",
        "outputId": "a9bc11a9-ca38-4184-eec4-f3e46ddcf42b"
      },
      "execution_count": 39,
      "outputs": [
        {
          "output_type": "stream",
          "name": "stderr",
          "text": [
            "<ipython-input-39-9a57f66c5eb9>:1: SettingWithCopyWarning: \n",
            "A value is trying to be set on a copy of a slice from a DataFrame.\n",
            "Try using .loc[row_indexer,col_indexer] = value instead\n",
            "\n",
            "See the caveats in the documentation: https://pandas.pydata.org/pandas-docs/stable/user_guide/indexing.html#returning-a-view-versus-a-copy\n",
            "  df['Deposit'] = df['Deposit'].str.replace(',', '').astype(float)\n"
          ]
        }
      ]
    },
    {
      "cell_type": "code",
      "source": [
        "pivot_table = df.pivot_table(values='Deposit', index='Day', aggfunc='sum')"
      ],
      "metadata": {
        "id": "a56NCx-2OoF3"
      },
      "execution_count": 40,
      "outputs": []
    },
    {
      "cell_type": "code",
      "source": [
        "pivot_table = pivot_table.fillna(0)"
      ],
      "metadata": {
        "id": "nmfCSHIQOqFX"
      },
      "execution_count": 41,
      "outputs": []
    },
    {
      "cell_type": "code",
      "source": [
        "plt.figure(figsize=(12, 8))\n",
        "sns.heatmap(pivot_table, cmap='viridis', annot=True, fmt=\".0f\")\n",
        "plt.title('Heatmap of Deposits by Day of the Month')\n",
        "plt.xlabel('Month')\n",
        "plt.ylabel('Day of the Month')\n",
        "plt.show()"
      ],
      "metadata": {
        "colab": {
          "base_uri": "https://localhost:8080/",
          "height": 718
        },
        "id": "RdWH6od3Oq-q",
        "outputId": "f8ba8ad0-dcf6-4fd4-b2b4-7f75b477343c"
      },
      "execution_count": 44,
      "outputs": [
        {
          "output_type": "display_data",
          "data": {
            "text/plain": [
              "<Figure size 1200x800 with 2 Axes>"
            ],
            "image/png": "[encoded data removed]"
          },
          "metadata": {}
        }
      ]
    },
    {
      "cell_type": "code",
      "source": [
        "date_pattern = r'از تاریخ: (\\d{4}-\\d{2}-\\d{2}) تا تاریخ : (\\d{4}-\\d{2}-\\d{2})'\n",
        "account_number_pattern = r'شماره کارت: (\\d+)'\n",
        "document_number_pattern = r'شماره سند: (\\d+)'\n",
        "name_pattern = r'بنام: ([\\w\\s]+)'\n",
        "transaction_number_pattern = r'ش م: (\\d+)'\n",
        "tracking_number_pattern = r'ش پ: (\\d+)'"
      ],
      "metadata": {
        "id": "OqmKP7GnQWKb"
      },
      "execution_count": 47,
      "outputs": []
    },
    {
      "cell_type": "code",
      "source": [
        "def extract_info(row):\n",
        "    dates = re.findall(date_pattern, row)\n",
        "    account_number = re.search(account_number_pattern, row)\n",
        "    document_number = re.search(document_number_pattern, row)\n",
        "    name = re.search(name_pattern, row)\n",
        "    transaction_number = re.search(transaction_number_pattern, row)\n",
        "    tracking_number = re.search(tracking_number_pattern, row)\n",
        "\n",
        "    return pd.Series({\n",
        "        'Start_Date': dates[0][0] if dates else None,\n",
        "        'End_Date': dates[0][1] if dates else None,\n",
        "        'Account_Number': account_number.group(1) if account_number else None,\n",
        "        'Document_Number': document_number.group(1) if document_number else None,\n",
        "        'Name': name.group(1) if name else None,\n",
        "        'Transaction_Number': transaction_number.group(1) if transaction_number else None,\n",
        "        'Tracking_Number': tracking_number.group(1) if tracking_number else None\n",
        "    })"
      ],
      "metadata": {
        "id": "j-rXoek-RGix"
      },
      "execution_count": 50,
      "outputs": []
    },
    {
      "cell_type": "code",
      "source": [
        "df[['Start_Date', 'End_Date', 'Account_Number', 'Document_Number', 'Name', 'Transaction_Number', 'Tracking_Number']] = df['Doc_Exp'].apply(extract_info)"
      ],
      "metadata": {
        "colab": {
          "base_uri": "https://localhost:8080/"
        },
        "id": "TOVqEiDcSKdr",
        "outputId": "66dddea4-37d4-4ca6-85b7-a928ea1a9f8c"
      },
      "execution_count": 51,
      "outputs": [
        {
          "output_type": "stream",
          "name": "stderr",
          "text": [
            "<ipython-input-51-a015a9604b44>:1: SettingWithCopyWarning: \n",
            "A value is trying to be set on a copy of a slice from a DataFrame.\n",
            "Try using .loc[row_indexer,col_indexer] = value instead\n",
            "\n",
            "See the caveats in the documentation: https://pandas.pydata.org/pandas-docs/stable/user_guide/indexing.html#returning-a-view-versus-a-copy\n",
            "  df[['Start_Date', 'End_Date', 'Account_Number', 'Document_Number', 'Name', 'Transaction_Number', 'Tracking_Number']] = df['Doc_Exp'].apply(extract_info)\n",
            "<ipython-input-51-a015a9604b44>:1: SettingWithCopyWarning: \n",
            "A value is trying to be set on a copy of a slice from a DataFrame.\n",
            "Try using .loc[row_indexer,col_indexer] = value instead\n",
            "\n",
            "See the caveats in the documentation: https://pandas.pydata.org/pandas-docs/stable/user_guide/indexing.html#returning-a-view-versus-a-copy\n",
            "  df[['Start_Date', 'End_Date', 'Account_Number', 'Document_Number', 'Name', 'Transaction_Number', 'Tracking_Number']] = df['Doc_Exp'].apply(extract_info)\n",
            "<ipython-input-51-a015a9604b44>:1: SettingWithCopyWarning: \n",
            "A value is trying to be set on a copy of a slice from a DataFrame.\n",
            "Try using .loc[row_indexer,col_indexer] = value instead\n",
            "\n",
            "See the caveats in the documentation: https://pandas.pydata.org/pandas-docs/stable/user_guide/indexing.html#returning-a-view-versus-a-copy\n",
            "  df[['Start_Date', 'End_Date', 'Account_Number', 'Document_Number', 'Name', 'Transaction_Number', 'Tracking_Number']] = df['Doc_Exp'].apply(extract_info)\n",
            "<ipython-input-51-a015a9604b44>:1: SettingWithCopyWarning: \n",
            "A value is trying to be set on a copy of a slice from a DataFrame.\n",
            "Try using .loc[row_indexer,col_indexer] = value instead\n",
            "\n",
            "See the caveats in the documentation: https://pandas.pydata.org/pandas-docs/stable/user_guide/indexing.html#returning-a-view-versus-a-copy\n",
            "  df[['Start_Date', 'End_Date', 'Account_Number', 'Document_Number', 'Name', 'Transaction_Number', 'Tracking_Number']] = df['Doc_Exp'].apply(extract_info)\n",
            "<ipython-input-51-a015a9604b44>:1: SettingWithCopyWarning: \n",
            "A value is trying to be set on a copy of a slice from a DataFrame.\n",
            "Try using .loc[row_indexer,col_indexer] = value instead\n",
            "\n",
            "See the caveats in the documentation: https://pandas.pydata.org/pandas-docs/stable/user_guide/indexing.html#returning-a-view-versus-a-copy\n",
            "  df[['Start_Date', 'End_Date', 'Account_Number', 'Document_Number', 'Name', 'Transaction_Number', 'Tracking_Number']] = df['Doc_Exp'].apply(extract_info)\n",
            "<ipython-input-51-a015a9604b44>:1: SettingWithCopyWarning: \n",
            "A value is trying to be set on a copy of a slice from a DataFrame.\n",
            "Try using .loc[row_indexer,col_indexer] = value instead\n",
            "\n",
            "See the caveats in the documentation: https://pandas.pydata.org/pandas-docs/stable/user_guide/indexing.html#returning-a-view-versus-a-copy\n",
            "  df[['Start_Date', 'End_Date', 'Account_Number', 'Document_Number', 'Name', 'Transaction_Number', 'Tracking_Number']] = df['Doc_Exp'].apply(extract_info)\n",
            "<ipython-input-51-a015a9604b44>:1: SettingWithCopyWarning: \n",
            "A value is trying to be set on a copy of a slice from a DataFrame.\n",
            "Try using .loc[row_indexer,col_indexer] = value instead\n",
            "\n",
            "See the caveats in the documentation: https://pandas.pydata.org/pandas-docs/stable/user_guide/indexing.html#returning-a-view-versus-a-copy\n",
            "  df[['Start_Date', 'End_Date', 'Account_Number', 'Document_Number', 'Name', 'Transaction_Number', 'Tracking_Number']] = df['Doc_Exp'].apply(extract_info)\n"
          ]
        }
      ]
    },
    {
      "cell_type": "code",
      "source": [
        "print(df[['Start_Date', 'End_Date', 'Account_Number', 'Document_Number', 'Name', 'Transaction_Number', 'Tracking_Number']])"
      ],
      "metadata": {
        "colab": {
          "base_uri": "https://localhost:8080/"
        },
        "id": "YguZOOjhSdmN",
        "outputId": "a31508a5-663a-41c2-ccb1-9b618dc7a81a"
      },
      "execution_count": 52,
      "outputs": [
        {
          "output_type": "stream",
          "name": "stdout",
          "text": [
            "     Start_Date    End_Date Account_Number Document_Number  \\\n",
            "0    1402-05-04  1402-06-04           None   1402492283644   \n",
            "1    1402-06-04  1402-07-04           None   1402618946931   \n",
            "2    1402-07-04  1402-08-04           None   1402755867913   \n",
            "3    1402-08-04  1402-09-04           None   1402900769064   \n",
            "4          None        None           None            None   \n",
            "..          ...         ...            ...             ...   \n",
            "99         None        None           None            None   \n",
            "100        None        None           None            None   \n",
            "101        None        None           None  14031024007785   \n",
            "102        None        None           None            None   \n",
            "103        None        None           None            None   \n",
            "\n",
            "                                                  Name Transaction_Number  \\\n",
            "0                                                 None               None   \n",
            "1                                                 None               None   \n",
            "2                                                 None               None   \n",
            "3                                                 None               None   \n",
            "4    ریحانه آهنی مانقوطای از درگاه اینترنتی 0001904...       333206771359   \n",
            "..                                                 ...                ...   \n",
            "99                                                None               None   \n",
            "100                                               None               None   \n",
            "101                                رحیم آهنی مانقوطای                None   \n",
            "102  ریحانه آهنی مانقوطای از درگاه اینترنتی 0001904...       421605303754   \n",
            "103                                               None               None   \n",
            "\n",
            "    Tracking_Number  \n",
            "0              None  \n",
            "1              None  \n",
            "2              None  \n",
            "3              None  \n",
            "4            771359  \n",
            "..              ...  \n",
            "99             None  \n",
            "100            None  \n",
            "101            None  \n",
            "102          303754  \n",
            "103            None  \n",
            "\n",
            "[104 rows x 7 columns]\n"
          ]
        }
      ]
    }
  ]
}